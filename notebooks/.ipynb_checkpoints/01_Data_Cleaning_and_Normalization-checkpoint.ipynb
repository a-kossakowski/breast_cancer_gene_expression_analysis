{
 "cells": [
  {
   "cell_type": "code",
   "execution_count": 2,
   "id": "0fab414a-0a46-4201-a4f2-e9a325885f31",
   "metadata": {
    "tags": []
   },
   "outputs": [],
   "source": [
    "import pandas as pd\n",
    "df = pd.read_csv('../data/GSE162285_gene_raw_counts_matrix.txt', delimiter='\\t')"
   ]
  },
  {
   "cell_type": "code",
   "execution_count": 11,
   "id": "02b6f6cd-8546-4286-98bc-0d0c73e5aa15",
   "metadata": {
    "tags": []
   },
   "outputs": [],
   "source": [
    "#print(df.head())\n",
    "#print(df.shape)\n",
    "#print(df.describe())"
   ]
  },
  {
   "cell_type": "code",
   "execution_count": 14,
   "id": "987c7ff2-25ae-4fbd-9fba-974facfb56a2",
   "metadata": {
    "tags": []
   },
   "outputs": [],
   "source": [
    "df.columns = ['Gene_ID'] + [f'Sample_{i}' for i in range(1, df.shape[1])]\n",
    "#print (df.columns)"
   ]
  },
  {
   "cell_type": "code",
   "execution_count": 15,
   "id": "64c32183-161c-4bf4-b493-0fa18a839f6e",
   "metadata": {
    "tags": []
   },
   "outputs": [],
   "source": [
    "df[['ENSG', 'HGNC']] = df['Gene_ID'].str.split('|', expand=True)"
   ]
  },
  {
   "cell_type": "code",
   "execution_count": 19,
   "id": "dd073054-613a-4a90-995a-513dfb3f559c",
   "metadata": {
    "tags": []
   },
   "outputs": [],
   "source": [
    "#print(df.head())\n",
    "#print (df.columns)"
   ]
  },
  {
   "cell_type": "code",
   "execution_count": 22,
   "id": "a0b29070-701c-4451-95d6-bb2d6982a814",
   "metadata": {
    "tags": []
   },
   "outputs": [],
   "source": [
    "df_normalized = df.iloc[:, 1:-2].apply(lambda x: (x / x.sum()) * 1e6, axis=0)\n",
    "#print (df_normalized)"
   ]
  },
  {
   "cell_type": "code",
   "execution_count": 25,
   "id": "cc43bb4d-3f11-4b1a-bcb5-a5beef01ea5e",
   "metadata": {
    "tags": []
   },
   "outputs": [],
   "source": [
    "df_filtered = df_normalized[df_normalized.mean(axis=1) > 1]\n",
    "#print (df_filtered)"
   ]
  }
 ],
 "metadata": {
  "kernelspec": {
   "display_name": "My Environment",
   "language": "python",
   "name": "myenv"
  },
  "language_info": {
   "codemirror_mode": {
    "name": "ipython",
    "version": 3
   },
   "file_extension": ".py",
   "mimetype": "text/x-python",
   "name": "python",
   "nbconvert_exporter": "python",
   "pygments_lexer": "ipython3",
   "version": "3.11.4"
  }
 },
 "nbformat": 4,
 "nbformat_minor": 5
}
