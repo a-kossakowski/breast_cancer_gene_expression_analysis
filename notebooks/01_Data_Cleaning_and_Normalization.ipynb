{
 "cells": [
  {
   "cell_type": "markdown",
   "id": "b9e7c4f3-ba58-4770-a832-927ed32074f3",
   "metadata": {},
   "source": [
    "# Data Cleaning and Normalization for Gene Expression Analysis\n",
    "\n",
    "This notebook outlines the steps for cleaning and normalizing a gene expression dataset. The key steps are:\n",
    "\n",
    "1. Data Reading:\n",
    "Reading the data as a dataframe in Pandas\n",
    "\n",
    "2. Column Renaming:\n",
    "This is a step done for better readability and easier data manipulation. I rename the columns to make them more understandable.\n",
    "\n",
    "3. String Splitting:\n",
    "Here, I split the Gene_ID into two separate identifiers: ENSG and HGNC. This is also a data manipulation step and is done to make the data easier to work with.\n",
    "\n",
    "4. Data Normalization:\n",
    "Normalization is performed to make the data comparable across different samples. I use Counts Per Million (CPM) normalization, which is commonly used in RNA-seq data analysis. This involves dividing each raw value by the sum of all values in its column and then multiplying by 1,000,000.\n",
    "\n",
    "5. Data Filtering:\n",
    "After normalization, I filter out genes that have a mean expression value across all samples that is less than 1. This is done to remove genes that are lowly expressed across all samples, as they are less likely to be of interest in the following analyses."
   ]
  },
  {
   "cell_type": "code",
   "execution_count": 29,
   "id": "0fab414a-0a46-4201-a4f2-e9a325885f31",
   "metadata": {
    "tags": []
   },
   "outputs": [],
   "source": [
    "import pandas as pd"
   ]
  },
  {
   "cell_type": "code",
   "execution_count": 48,
   "id": "1f6cae04-1dd4-43a0-9885-d22aced804d1",
   "metadata": {
    "tags": []
   },
   "outputs": [
    {
     "name": "stdout",
     "output_type": "stream",
     "text": [
      "Initial Data:\n",
      "\n",
      "          ENSG|HGNC_symbol  \\\n",
      "0  ENSG00000223972|DDX11L1   \n",
      "1   ENSG00000227232|WASH7P   \n",
      "\n",
      "   20170417_MDAMB231Org_Veh1_ED3996-2_S1_R1_001.trimmed.fastq.gz.ReadsPerGene.out.tab  \\\n",
      "0                                                  0                                    \n",
      "1                                                  1                                    \n",
      "\n",
      "   20170417_MDAMB231Org_Veh2_ED3996-2_S2_R1_001.trimmed.fastq.gz.ReadsPerGene.out.tab  \\\n",
      "0                                                  0                                    \n",
      "1                                                  2                                    \n",
      "\n",
      "   20170417_MDAMB231Org_Veh3_ED3996-2_S3_R1_001.trimmed.fastq.gz.ReadsPerGene.out.tab  \\\n",
      "0                                                  0                                    \n",
      "1                                                  0                                    \n",
      "\n",
      "   20170417_MDAMB231Org_Doc1_ED3996-2_S10_R1_001.trimmed.fastq.gz.ReadsPerGene.out.tab  \\\n",
      "0                                                  3                                     \n",
      "1                                                  2                                     \n",
      "\n",
      "   20170417_MDAMB231Org_Doc2_ED3996-2_S12_R1_001.trimmed.fastq.gz.ReadsPerGene.out.tab  \\\n",
      "0                                                  0                                     \n",
      "1                                                  1                                     \n",
      "\n",
      "   20170417_MDAMB231Org_Doc3_ED3996-2_S13_R1_001.trimmed.fastq.gz.ReadsPerGene.out.tab  \\\n",
      "0                                                  1                                     \n",
      "1                                                  0                                     \n",
      "\n",
      "   20170417_HCI002Org_Veh1_ED3996-2_S4_R1_001.trimmed.fastq.gz.ReadsPerGene.out.tab  \\\n",
      "0                                                  0                                  \n",
      "1                                                  1                                  \n",
      "\n",
      "   20170417_HCI002Org_Veh2_ED3996-2_S5_R1_001.trimmed.fastq.gz.ReadsPerGene.out.tab  \\\n",
      "0                                                  0                                  \n",
      "1                                                  0                                  \n",
      "\n",
      "   20170417_HCI002Org_Doc1_ED3996-2_S6_R1_001.trimmed.fastq.gz.ReadsPerGene.out.tab  \\\n",
      "0                                                  0                                  \n",
      "1                                                  0                                  \n",
      "\n",
      "   ...  20161113_V4_ED3663_S6_R1_001.fastq.gz.ReadsPerGene.out.tab  \\\n",
      "0  ...                                                  0            \n",
      "1  ...                                                  0            \n",
      "\n",
      "   20161113_A1_ED3663_S1_R1_001.fastq.gz.ReadsPerGene.out.tab  \\\n",
      "0                                                  1            \n",
      "1                                                  0            \n",
      "\n",
      "   20161113_A4_ED3663_S2_R1_001.fastq.gz.ReadsPerGene.out.tab  \\\n",
      "0                                                  0            \n",
      "1                                                  4            \n",
      "\n",
      "   20161113_A5_ED3663_S3_R1_001.fastq.gz.ReadsPerGene.out.tab  \\\n",
      "0                                                  0            \n",
      "1                                                  0            \n",
      "\n",
      "   20170714_PrCa1Xeno_Veh1_ED4436-2_S7_R1_001.fastq.gz.ReadsPerGene.out.tab  \\\n",
      "0                                                  0                          \n",
      "1                                                  0                          \n",
      "\n",
      "   20170714_PrCa1Xeno_Veh2_ED4436-2_S8_R1_001.fastq.gz.ReadsPerGene.out.tab  \\\n",
      "0                                                  0                          \n",
      "1                                                  2                          \n",
      "\n",
      "   20170719_PrCa1Xeno_Veh3_ED4436-3_S1_R1_001.fastq.gz.ReadsPerGene.out.tab  \\\n",
      "0                                                  0                          \n",
      "1                                                  0                          \n",
      "\n",
      "   20170720_PrCa1Xeno_Vinbl1_ED4436-3_S1_R1_001.fastq.gz.ReadsPerGene.out.tab  \\\n",
      "0                                                  0                            \n",
      "1                                                  9                            \n",
      "\n",
      "   20170714_PrCa1Xeno_Vinbl2_ED4436-2_S11_R1_001.fastq.gz.ReadsPerGene.out.tab  \\\n",
      "0                                                  0                             \n",
      "1                                                  6                             \n",
      "\n",
      "   20170714_PrCa1Xeno_Vinbl3_ED4436-2_S12_R1_001.fastq.gz.ReadsPerGene.out.tab  \n",
      "0                                                  0                            \n",
      "1                                                  0                            \n",
      "\n",
      "[2 rows x 74 columns]\n"
     ]
    }
   ],
   "source": [
    "# Step 1: Reading the Data\n",
    "# Read the raw matrix into a DataFrame\n",
    "df = pd.read_csv('../data/GSE162285_gene_raw_counts_matrix.txt', delimiter='\\t')\n",
    "print(\"Initial Data:\\n\")\n",
    "print(df.head(2))"
   ]
  },
  {
   "cell_type": "code",
   "execution_count": 50,
   "id": "987c7ff2-25ae-4fbd-9fba-974facfb56a2",
   "metadata": {
    "tags": []
   },
   "outputs": [
    {
     "name": "stdout",
     "output_type": "stream",
     "text": [
      "\n",
      "Columns after renaming:\n",
      "\n",
      "                     Gene_ID  Sample_1  Sample_2  Sample_3  Sample_4  \\\n",
      "0    ENSG00000223972|DDX11L1         0         0         0         3   \n",
      "1     ENSG00000227232|WASH7P         1         2         0         2   \n",
      "2  ENSG00000278267|MIR6859-1         1         0         1         0   \n",
      "3           ENSG00000243485|         0         0         0         3   \n",
      "4  ENSG00000274890|MIR1302-2         0         0         0         0   \n",
      "\n",
      "   Sample_5  Sample_6  Sample_7  Sample_8  Sample_9  ...  Sample_64  \\\n",
      "0         0         1         0         0         0  ...          0   \n",
      "1         1         0         1         0         0  ...          0   \n",
      "2         0         0         0         0         0  ...          1   \n",
      "3         1         0         0         0         0  ...          0   \n",
      "4         0         0         0         0         0  ...          0   \n",
      "\n",
      "   Sample_65  Sample_66  Sample_67  Sample_68  Sample_69  Sample_70  \\\n",
      "0          1          0          0          0          0          0   \n",
      "1          0          4          0          0          2          0   \n",
      "2          0          1          0          0         19          8   \n",
      "3          0          0          0          0          3          0   \n",
      "4          0          0          0          0          0          0   \n",
      "\n",
      "   Sample_71  Sample_72  Sample_73  \n",
      "0          0          0          0  \n",
      "1          9          6          0  \n",
      "2         21          8          4  \n",
      "3          2          1          0  \n",
      "4          0          0          0  \n",
      "\n",
      "[5 rows x 74 columns]\n"
     ]
    }
   ],
   "source": [
    "# Step 2: Renaming Columns\n",
    "# Rename the columns for better readability\n",
    "df.columns = ['Gene_ID'] + [f'Sample_{i}' for i in range(1, df.shape[1])]\n",
    "print(\"\\nColumns after renaming:\\n\")\n",
    "#print(df.columns)\n",
    "print(df.head())"
   ]
  },
  {
   "cell_type": "code",
   "execution_count": 68,
   "id": "64c32183-161c-4bf4-b493-0fa18a839f6e",
   "metadata": {
    "tags": []
   },
   "outputs": [
    {
     "name": "stdout",
     "output_type": "stream",
     "text": [
      "Data after splitting Gene_ID:\n",
      "\n",
      "                     Gene_ID  Sample_1  Sample_2  Sample_3  Sample_4  \\\n",
      "0    ENSG00000223972|DDX11L1         0         0         0         3   \n",
      "1     ENSG00000227232|WASH7P         1         2         0         2   \n",
      "2  ENSG00000278267|MIR6859-1         1         0         1         0   \n",
      "3           ENSG00000243485|         0         0         0         3   \n",
      "4  ENSG00000274890|MIR1302-2         0         0         0         0   \n",
      "\n",
      "   Sample_5  Sample_6  Sample_7  Sample_8  Sample_9  ...  Sample_66  \\\n",
      "0         0         1         0         0         0  ...          0   \n",
      "1         1         0         1         0         0  ...          4   \n",
      "2         0         0         0         0         0  ...          1   \n",
      "3         1         0         0         0         0  ...          0   \n",
      "4         0         0         0         0         0  ...          0   \n",
      "\n",
      "   Sample_67  Sample_68  Sample_69  Sample_70  Sample_71  Sample_72  \\\n",
      "0          0          0          0          0          0          0   \n",
      "1          0          0          2          0          9          6   \n",
      "2          0          0         19          8         21          8   \n",
      "3          0          0          3          0          2          1   \n",
      "4          0          0          0          0          0          0   \n",
      "\n",
      "   Sample_73             ENSG       HGNC  \n",
      "0          0  ENSG00000223972    DDX11L1  \n",
      "1          0  ENSG00000227232     WASH7P  \n",
      "2          4  ENSG00000278267  MIR6859-1  \n",
      "3          0  ENSG00000243485             \n",
      "4          0  ENSG00000274890  MIR1302-2  \n",
      "\n",
      "[5 rows x 76 columns]\n"
     ]
    }
   ],
   "source": [
    "# Step 3: Splitting Gene_ID\n",
    "# Split the 'Gene_ID' into 'ENSG' and 'HGNC' based on the delimiter '|'\n",
    "df[['ENSG', 'HGNC']] = df['Gene_ID'].str.split('|', expand=True)\n",
    "print(\"Data after splitting Gene_ID:\\n\")\n",
    "print(df.head())"
   ]
  },
  {
   "cell_type": "code",
   "execution_count": 85,
   "id": "a0b29070-701c-4451-95d6-bb2d6982a814",
   "metadata": {
    "tags": []
   },
   "outputs": [
    {
     "name": "stdout",
     "output_type": "stream",
     "text": [
      "\n",
      "Normalized Data:\n",
      "\n",
      "   Sample_1  Sample_2  Sample_3  Sample_4  Sample_5  Sample_6  Sample_7  \\\n",
      "0  0.000000  0.000000  0.000000  1.930194   0.00000  0.661822  0.000000   \n",
      "1  0.224773  0.474113  0.000000  1.286796   0.71248  0.000000  0.184007   \n",
      "2  0.224773  0.000000  0.216609  0.000000   0.00000  0.000000  0.000000   \n",
      "3  0.000000  0.000000  0.000000  1.930194   0.71248  0.000000  0.000000   \n",
      "4  0.000000  0.000000  0.000000  0.000000   0.00000  0.000000  0.000000   \n",
      "\n",
      "   Sample_8  Sample_9  Sample_10  ...  Sample_66  Sample_67  Sample_68  \\\n",
      "0       0.0       0.0        0.0  ...   0.000000        0.0        0.0   \n",
      "1       0.0       0.0        0.0  ...   0.269096        0.0        0.0   \n",
      "2       0.0       0.0        0.0  ...   0.067274        0.0        0.0   \n",
      "3       0.0       0.0        0.0  ...   0.000000        0.0        0.0   \n",
      "4       0.0       0.0        0.0  ...   0.000000        0.0        0.0   \n",
      "\n",
      "   Sample_69  Sample_70  Sample_71  Sample_72  Sample_73             ENSG  \\\n",
      "0   0.000000    0.00000   0.000000   0.000000   0.000000  ENSG00000223972   \n",
      "1   0.082004    0.00000   0.407470   0.368370   0.000000  ENSG00000227232   \n",
      "2   0.779034    0.39933   0.950762   0.491161   0.352473  ENSG00000278267   \n",
      "3   0.123005    0.00000   0.090549   0.061395   0.000000  ENSG00000243485   \n",
      "4   0.000000    0.00000   0.000000   0.000000   0.000000  ENSG00000274890   \n",
      "\n",
      "        HGNC  \n",
      "0    DDX11L1  \n",
      "1     WASH7P  \n",
      "2  MIR6859-1  \n",
      "3             \n",
      "4  MIR1302-2  \n",
      "\n",
      "[5 rows x 75 columns]\n"
     ]
    }
   ],
   "source": [
    "# Step 4: Normalizing the Data\n",
    "# Normalize the data by dividing each value by the sum of its column and then multiplying by 1e6\n",
    "# Include the 'Gene_ID', 'ENSG', and 'HGNC' columns in the normalization process\n",
    "df_normalized = df.iloc[:, 1:-2].apply(lambda x: (x / x.sum()) * 1e6, axis=0)\n",
    "df_normalized[[ 'ENSG', 'HGNC']] = df[['ENSG', 'HGNC']]\n",
    "print(\"\\nNormalized Data:\\n\")\n",
    "print(df_normalized.head())\n"
   ]
  },
  {
   "cell_type": "code",
   "execution_count": 87,
   "id": "cc43bb4d-3f11-4b1a-bcb5-a5beef01ea5e",
   "metadata": {
    "tags": []
   },
   "outputs": [
    {
     "name": "stdout",
     "output_type": "stream",
     "text": [
      "\n",
      "Filtered Data:\n",
      "\n",
      "      Sample_1    Sample_2    Sample_3    Sample_4   Sample_5    Sample_6  \\\n",
      "19    4.270685    5.689356    4.332186    5.790582   1.424960    6.618221   \n",
      "36    3.821139    5.215243    4.982014    5.790582   2.849920    0.661822   \n",
      "37  140.483059  149.108525  130.832016  160.206093  70.535529   70.814968   \n",
      "39  220.951756  290.631243  292.639161  178.221236  99.034732  120.451627   \n",
      "41    3.146821    2.133508    3.465749    1.930194   3.562400    4.632755   \n",
      "\n",
      "     Sample_7   Sample_8   Sample_9  Sample_10  ...  Sample_66  Sample_67  \\\n",
      "19   8.648318   6.212555   6.984612   7.365940  ...   1.681848   1.214139   \n",
      "36   2.760101   2.070852   4.108595   2.946376  ...   0.538191   0.520345   \n",
      "37  95.867521  91.376327  88.745654  76.114712  ...  64.381147  25.843814   \n",
      "39  84.643109  78.174648  76.009009  69.730898  ...  79.517780  42.321413   \n",
      "41   4.048149   1.553139   1.232579   0.982125  ...   0.605465   0.520345   \n",
      "\n",
      "    Sample_68  Sample_69   Sample_70   Sample_71  Sample_72   Sample_73  \\\n",
      "19  67.983605   7.585333    9.933334   13.310671   7.428803    4.670272   \n",
      "36   0.436352   0.164007    0.349414    0.181098   0.429765    0.088118   \n",
      "37   2.007218  61.338693  101.779240  111.556098  67.902942  172.623819   \n",
      "39   1.396326  11.070486   13.427472   14.170884  14.612026   22.646412   \n",
      "41   0.959974   0.369016    0.698828    0.724390   0.675346    0.793065   \n",
      "\n",
      "               ENSG      HGNC  \n",
      "19  ENSG00000279457            \n",
      "36  ENSG00000225972  MTND1P23  \n",
      "37  ENSG00000225630  MTND2P28  \n",
      "39  ENSG00000237973  MTCO1P12  \n",
      "41  ENSG00000229344  MTCO2P12  \n",
      "\n",
      "[5 rows x 75 columns]\n"
     ]
    }
   ],
   "source": [
    "# Step 5: Filtering the Data\n",
    "# Filter out rows where the mean value across numeric samples is less than 1\n",
    "numeric_columns = df_normalized.select_dtypes(include=[float]).columns\n",
    "mean_values = df_normalized[numeric_columns].mean(axis=1)\n",
    "df_filtered = df_normalized[mean_values > 1]\n",
    "print(\"\\nFiltered Data:\\n\")\n",
    "print(df_filtered.head())"
   ]
  },
  {
   "cell_type": "code",
   "execution_count": 90,
   "id": "e417a385-66bc-490b-8540-ee4bb0bc0c72",
   "metadata": {},
   "outputs": [],
   "source": [
    "# Save the filtered and normalized DataFrame to a CSV file\n",
    "df_filtered.to_csv('../data/filtered_normalized_gene_expression_data.csv', index=False)"
   ]
  }
 ],
 "metadata": {
  "kernelspec": {
   "display_name": "My Environment",
   "language": "python",
   "name": "myenv"
  },
  "language_info": {
   "codemirror_mode": {
    "name": "ipython",
    "version": 3
   },
   "file_extension": ".py",
   "mimetype": "text/x-python",
   "name": "python",
   "nbconvert_exporter": "python",
   "pygments_lexer": "ipython3",
   "version": "3.11.4"
  }
 },
 "nbformat": 4,
 "nbformat_minor": 5
}
